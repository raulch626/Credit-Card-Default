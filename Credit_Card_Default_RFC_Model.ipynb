{
 "cells": [
  {
   "cell_type": "code",
   "execution_count": 3,
   "id": "53139b6c",
   "metadata": {
    "scrolled": false
   },
   "outputs": [
    {
     "data": {
      "text/html": [
       "<div>\n",
       "<style scoped>\n",
       "    .dataframe tbody tr th:only-of-type {\n",
       "        vertical-align: middle;\n",
       "    }\n",
       "\n",
       "    .dataframe tbody tr th {\n",
       "        vertical-align: top;\n",
       "    }\n",
       "\n",
       "    .dataframe thead th {\n",
       "        text-align: right;\n",
       "    }\n",
       "</style>\n",
       "<table border=\"1\" class=\"dataframe\">\n",
       "  <thead>\n",
       "    <tr style=\"text-align: right;\">\n",
       "      <th></th>\n",
       "      <th>ID</th>\n",
       "      <th>LIMIT_BAL</th>\n",
       "      <th>SEX</th>\n",
       "      <th>EDUCATION</th>\n",
       "      <th>MARRIAGE</th>\n",
       "      <th>AGE</th>\n",
       "      <th>PAY_0</th>\n",
       "      <th>PAY_2</th>\n",
       "      <th>PAY_3</th>\n",
       "      <th>PAY_4</th>\n",
       "      <th>...</th>\n",
       "      <th>BILL_AMT4</th>\n",
       "      <th>BILL_AMT5</th>\n",
       "      <th>BILL_AMT6</th>\n",
       "      <th>PAY_AMT1</th>\n",
       "      <th>PAY_AMT2</th>\n",
       "      <th>PAY_AMT3</th>\n",
       "      <th>PAY_AMT4</th>\n",
       "      <th>PAY_AMT5</th>\n",
       "      <th>PAY_AMT6</th>\n",
       "      <th>defaulted</th>\n",
       "    </tr>\n",
       "  </thead>\n",
       "  <tbody>\n",
       "    <tr>\n",
       "      <th>0</th>\n",
       "      <td>1</td>\n",
       "      <td>20000</td>\n",
       "      <td>2</td>\n",
       "      <td>2</td>\n",
       "      <td>1</td>\n",
       "      <td>24</td>\n",
       "      <td>2</td>\n",
       "      <td>2</td>\n",
       "      <td>-1</td>\n",
       "      <td>-1</td>\n",
       "      <td>...</td>\n",
       "      <td>0</td>\n",
       "      <td>0</td>\n",
       "      <td>0</td>\n",
       "      <td>0</td>\n",
       "      <td>689</td>\n",
       "      <td>0</td>\n",
       "      <td>0</td>\n",
       "      <td>0</td>\n",
       "      <td>0</td>\n",
       "      <td>1</td>\n",
       "    </tr>\n",
       "    <tr>\n",
       "      <th>1</th>\n",
       "      <td>2</td>\n",
       "      <td>120000</td>\n",
       "      <td>2</td>\n",
       "      <td>2</td>\n",
       "      <td>2</td>\n",
       "      <td>26</td>\n",
       "      <td>-1</td>\n",
       "      <td>2</td>\n",
       "      <td>0</td>\n",
       "      <td>0</td>\n",
       "      <td>...</td>\n",
       "      <td>3272</td>\n",
       "      <td>3455</td>\n",
       "      <td>3261</td>\n",
       "      <td>0</td>\n",
       "      <td>1000</td>\n",
       "      <td>1000</td>\n",
       "      <td>1000</td>\n",
       "      <td>0</td>\n",
       "      <td>2000</td>\n",
       "      <td>1</td>\n",
       "    </tr>\n",
       "    <tr>\n",
       "      <th>2</th>\n",
       "      <td>3</td>\n",
       "      <td>90000</td>\n",
       "      <td>2</td>\n",
       "      <td>2</td>\n",
       "      <td>2</td>\n",
       "      <td>34</td>\n",
       "      <td>0</td>\n",
       "      <td>0</td>\n",
       "      <td>0</td>\n",
       "      <td>0</td>\n",
       "      <td>...</td>\n",
       "      <td>14331</td>\n",
       "      <td>14948</td>\n",
       "      <td>15549</td>\n",
       "      <td>1518</td>\n",
       "      <td>1500</td>\n",
       "      <td>1000</td>\n",
       "      <td>1000</td>\n",
       "      <td>1000</td>\n",
       "      <td>5000</td>\n",
       "      <td>0</td>\n",
       "    </tr>\n",
       "    <tr>\n",
       "      <th>3</th>\n",
       "      <td>4</td>\n",
       "      <td>50000</td>\n",
       "      <td>2</td>\n",
       "      <td>2</td>\n",
       "      <td>1</td>\n",
       "      <td>37</td>\n",
       "      <td>0</td>\n",
       "      <td>0</td>\n",
       "      <td>0</td>\n",
       "      <td>0</td>\n",
       "      <td>...</td>\n",
       "      <td>28314</td>\n",
       "      <td>28959</td>\n",
       "      <td>29547</td>\n",
       "      <td>2000</td>\n",
       "      <td>2019</td>\n",
       "      <td>1200</td>\n",
       "      <td>1100</td>\n",
       "      <td>1069</td>\n",
       "      <td>1000</td>\n",
       "      <td>0</td>\n",
       "    </tr>\n",
       "    <tr>\n",
       "      <th>4</th>\n",
       "      <td>5</td>\n",
       "      <td>50000</td>\n",
       "      <td>1</td>\n",
       "      <td>2</td>\n",
       "      <td>1</td>\n",
       "      <td>57</td>\n",
       "      <td>-1</td>\n",
       "      <td>0</td>\n",
       "      <td>-1</td>\n",
       "      <td>0</td>\n",
       "      <td>...</td>\n",
       "      <td>20940</td>\n",
       "      <td>19146</td>\n",
       "      <td>19131</td>\n",
       "      <td>2000</td>\n",
       "      <td>36681</td>\n",
       "      <td>10000</td>\n",
       "      <td>9000</td>\n",
       "      <td>689</td>\n",
       "      <td>679</td>\n",
       "      <td>0</td>\n",
       "    </tr>\n",
       "  </tbody>\n",
       "</table>\n",
       "<p>5 rows × 25 columns</p>\n",
       "</div>"
      ],
      "text/plain": [
       "   ID  LIMIT_BAL  SEX  EDUCATION  MARRIAGE  AGE  PAY_0  PAY_2  PAY_3  PAY_4  \\\n",
       "0   1      20000    2          2         1   24      2      2     -1     -1   \n",
       "1   2     120000    2          2         2   26     -1      2      0      0   \n",
       "2   3      90000    2          2         2   34      0      0      0      0   \n",
       "3   4      50000    2          2         1   37      0      0      0      0   \n",
       "4   5      50000    1          2         1   57     -1      0     -1      0   \n",
       "\n",
       "   ...  BILL_AMT4  BILL_AMT5  BILL_AMT6  PAY_AMT1  PAY_AMT2  PAY_AMT3  \\\n",
       "0  ...          0          0          0         0       689         0   \n",
       "1  ...       3272       3455       3261         0      1000      1000   \n",
       "2  ...      14331      14948      15549      1518      1500      1000   \n",
       "3  ...      28314      28959      29547      2000      2019      1200   \n",
       "4  ...      20940      19146      19131      2000     36681     10000   \n",
       "\n",
       "   PAY_AMT4  PAY_AMT5  PAY_AMT6  defaulted  \n",
       "0         0         0         0          1  \n",
       "1      1000         0      2000          1  \n",
       "2      1000      1000      5000          0  \n",
       "3      1100      1069      1000          0  \n",
       "4      9000       689       679          0  \n",
       "\n",
       "[5 rows x 25 columns]"
      ]
     },
     "execution_count": 3,
     "metadata": {},
     "output_type": "execute_result"
    }
   ],
   "source": [
    "#Import credit-card-default.csv file\n",
    "import pandas as pd\n",
    "my_file=\"credit-card-default.csv\"\n",
    "df=pd.read_csv(my_file, encoding='utf-8')\n",
    "df.head()"
   ]
  },
  {
   "cell_type": "code",
   "execution_count": 4,
   "id": "87ffff9b",
   "metadata": {},
   "outputs": [
    {
     "data": {
      "text/plain": [
       "(30000, 24)"
      ]
     },
     "execution_count": 4,
     "metadata": {},
     "output_type": "execute_result"
    }
   ],
   "source": [
    "#PREPROCESSING OPERATIONS\n",
    "#Define input and target variables\n",
    "input_variables=['ID', 'LIMIT_BAL', 'SEX', 'EDUCATION',\n",
    "       'MARRIAGE', 'AGE','PAY_0', 'PAY_2',\n",
    "       'PAY_3', 'PAY_4','PAY_5', 'PAY_6', 'BILL_AMT1', 'BILL_AMT2',\n",
    "       'BILL_AMT3', 'BILL_AMT4','BILL_AMT5', 'BILL_AMT6',\n",
    "       'PAY_AMT1', 'PAY_AMT2','PAY_AMT3', 'PAY_AMT4','PAY_AMT5',\n",
    "        'PAY_AMT6']\n",
    "target_variable=['defaulted']\n",
    "X=df[input_variables]\n",
    "y=df['defaulted']\n",
    "X.shape"
   ]
  },
  {
   "cell_type": "code",
   "execution_count": 5,
   "id": "3265306e",
   "metadata": {},
   "outputs": [
    {
     "name": "stdout",
     "output_type": "stream",
     "text": [
      "Counter({0: 23364, 1: 6636})\n",
      "Counter({1: 23364, 0: 23364})\n"
     ]
    }
   ],
   "source": [
    "#Oversample the minority classes\n",
    "import imblearn\n",
    "from collections import Counter\n",
    "from imblearn.over_sampling import RandomOverSampler \n",
    "print(Counter(y))\n",
    "over = RandomOverSampler(sampling_strategy={1:23364})\n",
    "#fit and apply the transform\n",
    "X, y = over.fit_resample(X, y)\n",
    "# summarize class distribution\n",
    "print(Counter(y))\n",
    "# over = RandomOverSampler(sampling_strategy={1:4784})\n",
    "# #fit and apply the transform\n",
    "# X, y = over.fit_resample(X, y)\n",
    "# # summarize class distribution\n",
    "# print(Counter(y))"
   ]
  },
  {
   "cell_type": "code",
   "execution_count": 6,
   "id": "f202e75b",
   "metadata": {},
   "outputs": [
    {
     "data": {
      "text/plain": [
       "(37382,)"
      ]
     },
     "execution_count": 6,
     "metadata": {},
     "output_type": "execute_result"
    }
   ],
   "source": [
    "#Split into test and train data.\n",
    "from sklearn.model_selection import train_test_split\n",
    "test_size=0.2\n",
    "random_state=160721\n",
    "X_train, X_test, y_train, y_test=train_test_split(X,y, test_size= test_size,random_state=random_state)\n",
    "y_train.shape"
   ]
  },
  {
   "cell_type": "code",
   "execution_count": 7,
   "id": "062910e9",
   "metadata": {},
   "outputs": [
    {
     "name": "stdout",
     "output_type": "stream",
     "text": [
      "             ID  LIMIT_BAL  SEX  EDUCATION  MARRIAGE       AGE  PAY_0  \\\n",
      "0      0.095037   0.020202  1.0   0.333333  0.333333  0.310345    0.4   \n",
      "1      0.827094   0.020202  0.0   0.500000  0.333333  0.362069    0.2   \n",
      "2      0.623487   0.202020  1.0   0.166667  0.666667  0.103448    0.2   \n",
      "3      0.520084   0.050505  1.0   0.333333  0.666667  0.051724    0.3   \n",
      "4      0.306410   0.121212  1.0   0.333333  0.333333  0.344828    0.4   \n",
      "...         ...        ...  ...        ...       ...       ...    ...   \n",
      "29995  0.422881   0.171717  1.0   0.333333  0.666667  0.120690    0.2   \n",
      "29996  0.015167   0.030303  0.0   0.333333  0.666667  0.310345    0.2   \n",
      "29997  0.622287   0.040404  1.0   0.333333  0.666667  0.086207    0.2   \n",
      "29998  0.241741   0.141414  1.0   0.333333  0.666667  0.120690    0.1   \n",
      "29999  0.931764   0.333333  1.0   0.333333  0.333333  0.137931    0.2   \n",
      "\n",
      "          PAY_2  PAY_3  PAY_4  ...  BILL_AMT4  BILL_AMT5  BILL_AMT6  PAY_AMT1  \\\n",
      "0      0.444444    0.2    0.2  ...   0.170049   0.091906   0.145580  0.000000   \n",
      "1      0.222222    0.1    0.1  ...   0.160505   0.081035   0.135674  0.001980   \n",
      "2      0.222222    0.2    0.2  ...   0.327749   0.216301   0.260811  0.011881   \n",
      "3      0.111111    0.5    0.4  ...   0.160733   0.080961   0.135958  0.001877   \n",
      "4      0.444444    0.2    0.2  ...   0.255085   0.175143   0.213476  0.000000   \n",
      "...         ...    ...    ...  ...        ...        ...        ...       ...   \n",
      "29995  0.222222    0.2    0.2  ...   0.266495   0.195594   0.242478  0.012871   \n",
      "29996  0.222222    0.2    0.2  ...   0.174297   0.091159   0.140451  0.004014   \n",
      "29997  0.222222    0.2    0.2  ...   0.166240   0.086055   0.137706  0.002970   \n",
      "29998  0.111111    0.1    0.1  ...   0.170950   0.087668   0.137158  0.004950   \n",
      "29999  0.222222    0.1    0.1  ...   0.159695   0.131033   0.180856  0.001990   \n",
      "\n",
      "       PAY_AMT2  PAY_AMT3  PAY_AMT4  PAY_AMT5  PAY_AMT6  defaulted  \n",
      "0      0.001171  0.000419  0.001891  0.000000  0.001892          1  \n",
      "1      0.000381  0.000435  0.000737  0.000000  0.001475          1  \n",
      "2      0.006832  0.008928  0.012430  0.012895  0.010404          0  \n",
      "3      0.000000  0.000000  0.000000  0.000741  0.001479          0  \n",
      "4      0.007171  0.004464  0.006523  0.007737  0.007566          0  \n",
      "...         ...       ...       ...       ...       ...        ...  \n",
      "29995  0.004880  0.005580  0.009454  0.011723  0.009458          0  \n",
      "29996  0.001178  0.000336  0.000401  0.012461  0.009433          0  \n",
      "29997  0.001464  0.001128  0.001891  0.002345  0.001892          1  \n",
      "29998  0.007321  0.012810  0.013386  0.003871  0.082472          1  \n",
      "29999  0.000586  0.000000  0.096962  0.002797  0.009458          1  \n",
      "\n",
      "[30000 rows x 25 columns]\n"
     ]
    }
   ],
   "source": [
    "#Apply minmax to train data\n",
    "from sklearn.preprocessing import MinMaxScaler\n",
    "scaler=MinMaxScaler()\n",
    "scale_var=['ID', 'LIMIT_BAL', 'SEX', 'EDUCATION',\n",
    "       'MARRIAGE', 'AGE','PAY_0', 'PAY_2',\n",
    "       'PAY_3', 'PAY_4','PAY_5', 'PAY_6', 'BILL_AMT1', 'BILL_AMT2',\n",
    "       'BILL_AMT3', 'BILL_AMT4','BILL_AMT5', 'BILL_AMT6',\n",
    "       'PAY_AMT1', 'PAY_AMT2','PAY_AMT3', 'PAY_AMT4','PAY_AMT5',\n",
    "        'PAY_AMT6']\n",
    "df[scale_var]=pd.DataFrame(scaler.fit_transform(X_train[scale_var]), columns=[scale_var])\n",
    "print(df)"
   ]
  },
  {
   "cell_type": "code",
   "execution_count": 8,
   "id": "458d7c50",
   "metadata": {},
   "outputs": [
    {
     "name": "stdout",
     "output_type": "stream",
     "text": [
      "RandomForestClassifier(n_estimators=150)\n"
     ]
    }
   ],
   "source": [
    "from sklearn.ensemble import RandomForestClassifier\n",
    "model=RandomForestClassifier(n_estimators=150)\n",
    "model.fit(X_train, y_train.values.ravel())\n",
    "print(model)"
   ]
  },
  {
   "cell_type": "code",
   "execution_count": 9,
   "id": "66713d95",
   "metadata": {},
   "outputs": [],
   "source": [
    "import pickle\n",
    "model_filename= \"RFC_Model_Credit_default.pkl\"\n",
    "with open(model_filename, 'wb') as outfile:\n",
    "    pickle.dump(model,outfile)\n",
    "del model"
   ]
  },
  {
   "cell_type": "code",
   "execution_count": 10,
   "id": "2545575f",
   "metadata": {},
   "outputs": [
    {
     "name": "stderr",
     "output_type": "stream",
     "text": [
      "C:\\Users\\raul\\anaconda3\\lib\\site-packages\\IPython\\core\\interactiveshell.py:2940: PerformanceWarning: indexing past lexsort depth may impact performance.\n",
      "  return runner(coro)\n"
     ]
    }
   ],
   "source": [
    "#Apply minmax to test data\n",
    "from sklearn.preprocessing import MinMaxScaler\n",
    "scaler=MinMaxScaler()\n",
    "scale_var=['ID', 'LIMIT_BAL', 'SEX', 'EDUCATION',\n",
    "       'MARRIAGE', 'AGE','PAY_0', 'PAY_2',\n",
    "       'PAY_3', 'PAY_4','PAY_5', 'PAY_5', 'BILL_AMT1', 'BILL_AMT2',\n",
    "       'BILL_AMT3', 'BILL_AMT4','BILL_AMT5', 'BILL_AMT6',\n",
    "       'PAY_AMT1', 'PAY_AMT2','PAY_AMT3', 'PAY_AMT4','PAY_AMT5',\n",
    "        'PAY_AMT6']\n",
    "df[scale_var]=pd.DataFrame(scaler.fit_transform(X_test[scale_var]), columns=[scale_var])"
   ]
  },
  {
   "cell_type": "code",
   "execution_count": 11,
   "id": "8430f2f1",
   "metadata": {},
   "outputs": [
    {
     "name": "stdout",
     "output_type": "stream",
     "text": [
      "[0 0 1 ... 0 1 1]\n",
      "0.9375133747057565\n",
      "[[4289  439]\n",
      " [ 145 4473]]\n"
     ]
    }
   ],
   "source": [
    "#Using the Random Forest algorithm, predict the model accuracy.\n",
    "\n",
    "with open(\"RFC_Model_Credit_default.pkl\", 'rb') as infile:\n",
    "    model = pickle.load(infile)\n",
    "    \n",
    "predicted_output=model.predict(X_test)\n",
    "\n",
    "print(predicted_output)\n",
    "\n",
    "from sklearn.metrics import accuracy_score\n",
    "\n",
    "score=accuracy_score(y_test,predicted_output)\n",
    "\n",
    "print(score)\n",
    "\n",
    "from sklearn.metrics import confusion_matrix\n",
    "\n",
    "cm=confusion_matrix(y_test,predicted_output)\n",
    "print(cm)"
   ]
  },
  {
   "cell_type": "code",
   "execution_count": null,
   "id": "b9725ae2",
   "metadata": {},
   "outputs": [],
   "source": []
  }
 ],
 "metadata": {
  "kernelspec": {
   "display_name": "Python 3",
   "language": "python",
   "name": "python3"
  },
  "language_info": {
   "codemirror_mode": {
    "name": "ipython",
    "version": 3
   },
   "file_extension": ".py",
   "mimetype": "text/x-python",
   "name": "python",
   "nbconvert_exporter": "python",
   "pygments_lexer": "ipython3",
   "version": "3.8.8"
  }
 },
 "nbformat": 4,
 "nbformat_minor": 5
}
